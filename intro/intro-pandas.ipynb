{
 "cells": [
  {
   "cell_type": "markdown",
   "metadata": {},
   "source": [
    "# Introduction to Pandas\n",
    "\n",
    "---\n",
    "\n",
    "<img src=\"https://timedotcom.files.wordpress.com/2015/02/panda-cub.jpg?quality=85\" alt=\"pandas\" style=\"height: 300px;\"/>\n",
    "\n"
   ]
  },
  {
   "cell_type": "markdown",
   "metadata": {},
   "source": [
    "In this notebook, we will learn the basics of pandas. Pandas refers to a data science library, not the adorable cuddly creatures pictured above!\n",
    "\n",
    "Estimated time: 30 minutes\n",
    "\n",
    "---"
   ]
  },
  {
   "cell_type": "markdown",
   "metadata": {},
   "source": [
    "## 1. Introduction\n",
    "\n",
    "<i>What is pandas?</i>\n",
    "\n",
    "Here is the Wikipedia definition of pandas: \"pandas is a software library written for the Python programming language for data manipulation and analysis. In particular, it offers data structures and operations for manipulating numerical tables and time series.\"\n",
    "\n",
    "Basically, pandas is yet another tool we can use to manipulate data. \n",
    "\n",
    "Let's begin our exploration of pandas! First, we need to import it. The standard way of importing pandas is with this line of code:"
   ]
  },
  {
   "cell_type": "code",
   "execution_count": 3,
   "metadata": {
    "collapsed": true
   },
   "outputs": [],
   "source": [
    "import pandas as pd"
   ]
  },
  {
   "cell_type": "markdown",
   "metadata": {},
   "source": [
    "---"
   ]
  },
  {
   "cell_type": "markdown",
   "metadata": {},
   "source": [
    "## 2. Data Frames"
   ]
  },
  {
   "cell_type": "markdown",
   "metadata": {},
   "source": [
    "A data structure is a particular way of representing and storing data in code. The <b>DataFrame</b> is the most used data structure in pandas. \n",
    "\n",
    "<b>Definition</b>: A DataFrame is a 2-dimensional labeled data structure with columns of potentially different types.\n",
    "\n",
    "Basically, a DataFrame is a table-like thing, with rows and columns, that stores data for us.\n",
    "\n",
    "Let's create our very first DataFrame. One way we can create a DataFrame is to use pandas' read_csv function, passing in a file name. The data in this file will be turned into a DataFrame, which we can save into a variable called df."
   ]
  },
  {
   "cell_type": "code",
   "execution_count": 5,
   "metadata": {
    "collapsed": true
   },
   "outputs": [],
   "source": [
    "df = pd.read_csv(\"https://raw.githubusercontent.com/vincentarelbundock/Rdatasets/master/csv/datasets/Titanic.csv\")"
   ]
  },
  {
   "cell_type": "markdown",
   "metadata": {},
   "source": [
    "---\n",
    "\n",
    "## 3. Tools for Examining DataFrames"
   ]
  },
  {
   "cell_type": "markdown",
   "metadata": {},
   "source": [
    "It is always good practice to get some preliminary information about your data before attempting analysis. Here are some pandas function that will help us do that:\n",
    "\n",
    "#### a) head"
   ]
  },
  {
   "cell_type": "code",
   "execution_count": null,
   "metadata": {
    "collapsed": true
   },
   "outputs": [],
   "source": []
  }
 ],
 "metadata": {
  "kernelspec": {
   "display_name": "Python 3",
   "language": "python",
   "name": "python3"
  },
  "language_info": {
   "codemirror_mode": {
    "name": "ipython",
    "version": 3
   },
   "file_extension": ".py",
   "mimetype": "text/x-python",
   "name": "python",
   "nbconvert_exporter": "python",
   "pygments_lexer": "ipython3",
   "version": "3.6.3"
  }
 },
 "nbformat": 4,
 "nbformat_minor": 2
}
