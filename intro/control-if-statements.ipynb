{
 "cells": [
  {
   "cell_type": "markdown",
   "metadata": {},
   "source": [
    "Now that we know how to compare values, we can tell our computer to make decisions using the **if statement**.\n",
    "\n",
    "### If Statements\n",
    "An **if statement** takes the following form:"
   ]
  },
  {
   "cell_type": "code",
   "execution_count": null,
   "metadata": {
    "collapsed": false
   },
   "outputs": [],
   "source": [
    "# Please do not run this code, as it will error. It is provided as a skeleton.\n",
    "\n",
    "if (condition1):\n",
    "    # code to be executed if condition1 is true\n",
    "elif (condition2):\n",
    "    # code to be executed if condition2 is true\n",
    "else:\n",
    "    # code to be executed otherwise"
   ]
  },
  {
   "cell_type": "markdown",
   "metadata": {},
   "source": [
    "With if statements, we can control which code is executed. Check out how handy this can be in the activity below!"
   ]
  },
  {
   "cell_type": "code",
   "execution_count": null,
   "metadata": {
    "collapsed": false
   },
   "outputs": [],
   "source": [
    "# We want to make a PB&J sandwich, but things keep going wrong!\n",
    "\n",
    "# Modify the variables below so that you go grocery shopping \n",
    "# with no mishaps and successfully purchase some peanut butter.\n",
    "\n",
    "# Run the code when you're done to see the results.\n",
    "\n",
    "print(\"Let's make a PB&J sandwich!\")\n",
    "peanut_butter = 10\n",
    "jelly = 100\n",
    "gas = 60\n",
    "flat_tire = True\n",
    "\n",
    "if (peanut_butter < 50):\n",
    "    print(\"Uh oh! We need more peanut butter. Must go grocery shopping...\")\n",
    "    if (gas < 75):\n",
    "        print(\"Oops! Your car is out of gas :(\")\n",
    "    elif (flat_tire):\n",
    "        print(\"Oh no! You have a flat tire :'(\")\n",
    "    else:\n",
    "        print(\"You made it to the grocery store and succesfully got peanut butter!\")\n",
    "        peanut_butter = # reset the value of peanut_butter so it is 100% full again\n",
    "else:\n",
    "    print(\"We have all the ingredients we need! Yummy yummy yay!\")"
   ]
  },
  {
   "cell_type": "code",
   "execution_count": null,
   "metadata": {
    "collapsed": true
   },
   "outputs": [],
   "source": []
  }
 ],
 "metadata": {
  "anaconda-cloud": {},
  "kernelspec": {
   "display_name": "Python [conda root]",
   "language": "python",
   "name": "conda-root-py"
  },
  "language_info": {
   "codemirror_mode": {
    "name": "ipython",
    "version": 3
   },
   "file_extension": ".py",
   "mimetype": "text/x-python",
   "name": "python",
   "nbconvert_exporter": "python",
   "pygments_lexer": "ipython3",
   "version": "3.5.2"
  }
 },
 "nbformat": 4,
 "nbformat_minor": 1
}
