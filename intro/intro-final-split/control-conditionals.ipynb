{
 "cells": [
  {
   "cell_type": "markdown",
   "metadata": {},
   "source": [
    "### Conditionals\n",
    "We use **conditionals** to run certain pieces of code _if_ something is true. For example, we should only go to the grocery store _if_ we are out of peanut butter!\n",
    "\n",
    "We use **comparators** to determine whether an expression is _true_ or _false_. There are six comparators to be aware of:\n",
    "1. Equal to: ==\n",
    "2. Not equal to: !=\n",
    "3. Greater than: >\n",
    "4. Greater than or equal to: >=\n",
    "5. Less than: <\n",
    "6. Less than or equal to: <=\n",
    "\n",
    "Let's try it out!"
   ]
  },
  {
   "cell_type": "code",
   "execution_count": null,
   "metadata": {
    "collapsed": false
   },
   "outputs": [],
   "source": [
    "# EXERCISE 1\n",
    "# Determine whether the following will print true or false\n",
    "# Run the code to check your answers!\n",
    "\n",
    "print(10 == 10)\n",
    "\n",
    "print(2016 < 2017)\n",
    "\n",
    "print(\"foo\" != \"bar\")\n",
    "\n",
    "print( (1+2+3+4+5) <=  (1*2*3))"
   ]
  },
  {
   "cell_type": "code",
   "execution_count": null,
   "metadata": {
    "collapsed": false
   },
   "outputs": [],
   "source": [
    "# EXERCISE 2\n",
    "\n",
    "# Write an expression that evaluates to True\n",
    "expression1 = # YOUR CODE HERE\n",
    "\n",
    "# Write an expression that evaluates to False\n",
    "expression2 = # YOUR CODE HERE\n",
    "\n",
    "print(expression1)\n",
    "print(expression2)"
   ]
  },
  {
   "cell_type": "code",
   "execution_count": null,
   "metadata": {
    "collapsed": true
   },
   "outputs": [],
   "source": []
  }
 ],
 "metadata": {
  "anaconda-cloud": {},
  "kernelspec": {
   "display_name": "Python [conda root]",
   "language": "python",
   "name": "conda-root-py"
  },
  "language_info": {
   "codemirror_mode": {
    "name": "ipython",
    "version": 3
   },
   "file_extension": ".py",
   "mimetype": "text/x-python",
   "name": "python",
   "nbconvert_exporter": "python",
   "pygments_lexer": "ipython3",
   "version": "3.5.2"
  }
 },
 "nbformat": 4,
 "nbformat_minor": 1
}
