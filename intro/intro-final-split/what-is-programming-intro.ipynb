{
 "cells": [
  {
   "cell_type": "markdown",
   "metadata": {},
   "source": [
    "## Programming in Python\n",
    "---\n",
    "Now that you are comfortable with using Jupyter notebooks, we can learn more about programming in this notebook.\n",
    "\n",
    "### What is Programming?\n",
    "**Programming** is giving the computer a set of step-by-step instructions to follow in order to execute a task. It's a lot like writing your own recipe book! For example, let's say you wanted to teach someone how to make a PB&J sandwich:\n",
    "1. Gather bread, peanut butter, jelly, and a spreading knife.\n",
    "2. Take out two slices of bread.\n",
    "3. Use the knife to spread peanut butter on one slice of bread.\n",
    "4. Use the knife to spread jelly on the other slice of bread.\n",
    "5. Put the two slices of bread together to make a sandwich.\n",
    "\n",
    "Just like that, programming is breaking up a complex task into smaller commands for the computer to understand and execute.\n",
    "\n",
    "In order to communicate with computers, however, we must talk to them in a way that they can understand us: via a **programming language**. \n",
    "\n",
    "There are many different kinds of programming languages, but we will be using **Python** because it is concise, simple to read, and applicable in a variety of projects - from web development to mobile apps to data analysis."
   ]
  },
  {
   "cell_type": "code",
   "execution_count": null,
   "metadata": {
    "collapsed": true
   },
   "outputs": [],
   "source": []
  }
 ],
 "metadata": {
  "kernelspec": {
   "display_name": "Python [conda root]",
   "language": "python",
   "name": "conda-root-py"
  },
  "language_info": {
   "codemirror_mode": {
    "name": "ipython",
    "version": 3
   },
   "file_extension": ".py",
   "mimetype": "text/x-python",
   "name": "python",
   "nbconvert_exporter": "python",
   "pygments_lexer": "ipython3",
   "version": "3.5.2"
  }
 },
 "nbformat": 4,
 "nbformat_minor": 1
}
