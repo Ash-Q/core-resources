{
 "cells": [
  {
   "cell_type": "markdown",
   "metadata": {},
   "source": [
    "## Scope\n",
    "---\n",
    "Programming is great, but it can also be quite peculiar sometimes. For example, each variable defined outside of any functions by default, is **global**. \n",
    "\n",
    "Try executing the code below:"
   ]
  },
  {
   "cell_type": "code",
   "execution_count": null,
   "metadata": {
    "collapsed": false
   },
   "outputs": [],
   "source": [
    "# Global Variable - name\n",
    "name = \"Harry Potter\"\n",
    "\n",
    "# our function\n",
    "def salutation(name):\n",
    "    return \"Hi \" + name + \", nice to meet you!\"\n",
    "\n",
    "# calling our function\n",
    "salutation(name)\n",
    "\n",
    "# un-comment the line below\n",
    "#salutation(\"Roonald Wazlib\")"
   ]
  },
  {
   "cell_type": "markdown",
   "metadata": {},
   "source": [
    "Even though your argument was called _name_, it didnt output Harry Potter, which was the **global** value of the variable called name. Instead, it gave preference to the **local** value which was given to the function as an argument, Roonald Wazlib. \n",
    "\n",
    "Think of it as filling your coffeemaker (function) up with coffee (variable). If you have a variable with **global** access called _name_ which is filled with coffee called Harry Potter, you can choose to either:\n",
    "\n",
    "1) Not input another value in your function. (Use the same name of the **global** variable as your argument)\n",
    "\n",
    "In this case, the **global** type of coffee will still be used. \n",
    "\n",
    "2) Choose to fill another value. In this case, your function will assign the value you pass as the argument to the “variable” which **is** the argument.\n",
    "\n",
    "Think of it as overriding your **global** coffee and putting a new type of coffee into your coffeemaker.\n",
    "\n",
    "### Activity\n",
    "\n",
    "Using the rules of scope you've learned so far, complete the function _puzzle_ to output the value **35**."
   ]
  },
  {
   "cell_type": "code",
   "execution_count": null,
   "metadata": {
    "collapsed": false
   },
   "outputs": [],
   "source": [
    "# Scope Puzzle!\n",
    "x = 5\n",
    "y = 6\n",
    "z = 7\n",
    "\n",
    "def puzzle(x, y):\n",
    "    return x * y\n",
    "\n",
    "# fill in this function call\n",
    "puzzle()\n"
   ]
  },
  {
   "cell_type": "code",
   "execution_count": null,
   "metadata": {
    "collapsed": true
   },
   "outputs": [],
   "source": []
  }
 ],
 "metadata": {
  "anaconda-cloud": {},
  "kernelspec": {
   "display_name": "Python [conda root]",
   "language": "python",
   "name": "conda-root-py"
  },
  "language_info": {
   "codemirror_mode": {
    "name": "ipython",
    "version": 3
   },
   "file_extension": ".py",
   "mimetype": "text/x-python",
   "name": "python",
   "nbconvert_exporter": "python",
   "pygments_lexer": "ipython3",
   "version": "3.5.2"
  }
 },
 "nbformat": 4,
 "nbformat_minor": 1
}
