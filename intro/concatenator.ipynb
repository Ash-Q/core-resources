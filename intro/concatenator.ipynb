{
 "cells": [
  {
   "cell_type": "code",
   "execution_count": 1,
   "metadata": {
    "collapsed": true
   },
   "outputs": [],
   "source": [
    "# put files you want as a list here\n",
    "# i.e. files = ['intro-tables.ipynb', 'intro-strings.ipynb']\n",
    "files = ['intro-tables.ipynb', 'intro-strings.ipynb', 'intro-matplotlib.ipynb']\n",
    "\n",
    "# put your intro ipynb file name here\n",
    "# i.e. file_output_name = \"example.ipynb\"\n",
    "file_output_name = \"example.ipynb\""
   ]
  },
  {
   "cell_type": "code",
   "execution_count": 2,
   "metadata": {
    "collapsed": true
   },
   "outputs": [],
   "source": [
    "import json"
   ]
  },
  {
   "cell_type": "code",
   "execution_count": 3,
   "metadata": {
    "collapsed": false
   },
   "outputs": [],
   "source": [
    "with open(files[0]) as json_data:\n",
    "    first = json.load(json_data)\n",
    "\n",
    "for file in files[1:]:\n",
    "    with open(file) as json_data:\n",
    "        x = json.load(json_data)\n",
    "    first['cells'] = first['cells'] + x['cells']"
   ]
  },
  {
   "cell_type": "code",
   "execution_count": 4,
   "metadata": {
    "collapsed": true
   },
   "outputs": [],
   "source": [
    "with open(file_output_name, 'w') as outfile:\n",
    "    json.dump(first, outfile)"
   ]
  },
  {
   "cell_type": "code",
   "execution_count": null,
   "metadata": {
    "collapsed": true
   },
   "outputs": [],
   "source": []
  }
 ],
 "metadata": {
  "anaconda-cloud": {},
  "kernelspec": {
   "display_name": "Python [conda root]",
   "language": "python",
   "name": "conda-root-py"
  },
  "language_info": {
   "codemirror_mode": {
    "name": "ipython",
    "version": 3
   },
   "file_extension": ".py",
   "mimetype": "text/x-python",
   "name": "python",
   "nbconvert_exporter": "python",
   "pygments_lexer": "ipython3",
   "version": "3.5.2"
  }
 },
 "nbformat": 4,
 "nbformat_minor": 1
}
