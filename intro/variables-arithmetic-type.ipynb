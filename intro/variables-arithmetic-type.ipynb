{
 "cells": [
  {
   "cell_type": "markdown",
   "metadata": {},
   "source": [
    "### Arithmetic\n",
    "Now that we've discussed what types of variables we can use, let's talk about how we can combine them together. As we saw at the beginning of this section, we can do basic math in Python. Here is a table that shows how to write such operations:\n",
    "\n",
    "|Operation|Operator|Example|Value|\n",
    "|-|-|-|\n",
    "|Addition|+|`2 + 3`|`5`|\n",
    "|Subtraction|-|`2 - 3`|`-1`|\n",
    "|Multiplication|*|`2 * 3`|`6`|\n",
    "|Division|/|`7 / 3`|`2.66667`|\n",
    "|Remainder|%|`7 % 3`|`1`|\n",
    "|Exponentiation|**|`2 ** 0.5`|`1.41421`|\n",
    "\n",
    "In addition, you can use parentheses to denote priority, just like in math.\n",
    "\n",
    "As an exercise, try to predict what each of these lines below will print out. Then, run the cell and check your answers."
   ]
  },
  {
   "cell_type": "code",
   "execution_count": null,
   "metadata": {
    "collapsed": true
   },
   "outputs": [],
   "source": [
    "q_1 = (3 + 4) / 2\n",
    "print(q_1) # What prints here?\n",
    "\n",
    "q_2 = 3 + 4 / 2\n",
    "print(q_2) # What prints here?\n",
    "\n",
    "some_variable = 1 + 2 + 3 + 4 + 5\n",
    "q_3 = some_variable * 4\n",
    "print(q_3) # What prints here?\n",
    "\n",
    "q_4 = some_variable % 3\n",
    "print(q_4) # What prints here?\n",
    "\n",
    "step_1 = 6 * 5 - (6 * 3)\n",
    "step_2 = (2 ** 3) / 4 * 7\n",
    "q_5 = 1 + step_1 ** 2 * step_2\n",
    "print(q_5) # What prints here?"
   ]
  }
 ],
 "metadata": {
  "anaconda-cloud": {},
  "kernelspec": {
   "display_name": "Python [conda root]",
   "language": "python",
   "name": "conda-root-py"
  },
  "language_info": {
   "codemirror_mode": {
    "name": "ipython",
    "version": 3
   },
   "file_extension": ".py",
   "mimetype": "text/x-python",
   "name": "python",
   "nbconvert_exporter": "python",
   "pygments_lexer": "ipython3",
   "version": "3.5.2"
  }
 },
 "nbformat": 4,
 "nbformat_minor": 1
}
