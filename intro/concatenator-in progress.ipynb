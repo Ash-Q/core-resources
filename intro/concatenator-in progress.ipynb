{
 "cells": [
  {
   "cell_type": "code",
   "execution_count": null,
   "metadata": {
    "collapsed": true
   },
   "outputs": [],
   "source": [
    "# put files you want as a list here\n",
    "# i.e. files = ['intro-tables.ipynb', 'intro-strings.ipynb']\n",
    "files = ['intro-tables.ipynb', 'intro-strings.ipynb', 'intro-matplotlib.ipynb']\n",
    "\n",
    "# put your intro ipynb file name here\n",
    "# i.e. file_output_name = \"example.ipynb\"\n",
    "file_output_name = \"example.ipynb\""
   ]
  },
  {
   "cell_type": "code",
   "execution_count": null,
   "metadata": {
    "collapsed": true
   },
   "outputs": [],
   "source": []
  },
  {
   "cell_type": "code",
   "execution_count": 14,
   "metadata": {
    "collapsed": false
   },
   "outputs": [
    {
     "name": "stdout",
     "output_type": "stream",
     "text": [
      "Requirement already satisfied: datascience in /Users/kellychen/anaconda/lib/python3.5/site-packages\n",
      "Requirement already satisfied: pytest in /Users/kellychen/anaconda/lib/python3.5/site-packages (from datascience)\n",
      "Requirement already satisfied: setuptools in /Users/kellychen/anaconda/lib/python3.5/site-packages/setuptools-27.2.0-py3.5.egg (from datascience)\n",
      "Requirement already satisfied: coveralls==0.5 in /Users/kellychen/anaconda/lib/python3.5/site-packages (from datascience)\n",
      "Requirement already satisfied: folium==0.1.5 in /Users/kellychen/anaconda/lib/python3.5/site-packages (from datascience)\n",
      "Requirement already satisfied: coverage==3.7.1 in /Users/kellychen/anaconda/lib/python3.5/site-packages (from datascience)\n",
      "Requirement already satisfied: sphinx in /Users/kellychen/anaconda/lib/python3.5/site-packages/Sphinx-1.4.6-py3.5.egg (from datascience)\n",
      "Requirement already satisfied: py>=1.4.29 in /Users/kellychen/anaconda/lib/python3.5/site-packages (from pytest->datascience)\n",
      "Requirement already satisfied: requests>=1.0.0 in /Users/kellychen/anaconda/lib/python3.5/site-packages (from coveralls==0.5->datascience)\n",
      "Requirement already satisfied: PyYAML>=3.10 in /Users/kellychen/anaconda/lib/python3.5/site-packages (from coveralls==0.5->datascience)\n",
      "Requirement already satisfied: docopt>=0.6.1 in /Users/kellychen/anaconda/lib/python3.5/site-packages (from coveralls==0.5->datascience)\n",
      "Requirement already satisfied: six>=1.5 in /Users/kellychen/anaconda/lib/python3.5/site-packages (from sphinx->datascience)\n",
      "Requirement already satisfied: Jinja2>=2.3 in /Users/kellychen/anaconda/lib/python3.5/site-packages (from sphinx->datascience)\n",
      "Requirement already satisfied: Pygments>=2.0 in /Users/kellychen/anaconda/lib/python3.5/site-packages (from sphinx->datascience)\n",
      "Requirement already satisfied: docutils>=0.11 in /Users/kellychen/anaconda/lib/python3.5/site-packages (from sphinx->datascience)\n",
      "Requirement already satisfied: snowballstemmer>=1.1 in /Users/kellychen/anaconda/lib/python3.5/site-packages (from sphinx->datascience)\n",
      "Requirement already satisfied: babel!=2.0,>=1.3 in /Users/kellychen/anaconda/lib/python3.5/site-packages (from sphinx->datascience)\n",
      "Requirement already satisfied: alabaster<0.8,>=0.7 in /Users/kellychen/anaconda/lib/python3.5/site-packages (from sphinx->datascience)\n",
      "Requirement already satisfied: imagesize in /Users/kellychen/anaconda/lib/python3.5/site-packages (from sphinx->datascience)\n",
      "Requirement already satisfied: MarkupSafe in /Users/kellychen/anaconda/lib/python3.5/site-packages (from Jinja2>=2.3->sphinx->datascience)\n",
      "Requirement already satisfied: pytz>=0a in /Users/kellychen/anaconda/lib/python3.5/site-packages (from babel!=2.0,>=1.3->sphinx->datascience)\n"
     ]
    }
   ],
   "source": [
    "!pip install datascience\n",
    "\n",
    "import numpy as np\n",
    "from datascience import *"
   ]
  },
  {
   "cell_type": "code",
   "execution_count": 15,
   "metadata": {
    "collapsed": true
   },
   "outputs": [],
   "source": [
    "files = make_array('control-intro.ipynb', 'functions-calling.ipynb',\n",
    "                  'functions.ipynb', 'intro-malpotlib.ipynb',\n",
    "                  'intro-matpotlib-sol.ipynb', 'intro-module-final.ipynb', \n",
    "                  'intro-pandas.ipynb', 'intro-pandas-sol.ipynb', \n",
    "                  'intro-strings.ipynb', 'intro-tables.ipynb', \n",
    "                  'intro-tables-sol-updated.ipynb', 'Jupyter Notebook Intro.ipynb', \n",
    "                  'scope.ipynb', 'variables-arithmetic-type.ipynb', \n",
    "                  'variables-intro.ipynb', 'variables-type-intro.ipynb',\n",
    "                  'what-is-programming-intro.ipynb')\n",
    "file_keys = make_array('control', 'function call', 'functions')"
   ]
  },
  {
   "cell_type": "code",
   "execution_count": null,
   "metadata": {
    "collapsed": true
   },
   "outputs": [],
   "source": [
    "import json"
   ]
  },
  {
   "cell_type": "code",
   "execution_count": null,
   "metadata": {
    "collapsed": false
   },
   "outputs": [],
   "source": [
    "with open(files[0]) as json_data:\n",
    "    first = json.load(json_data)\n",
    "\n",
    "for file in files[1:]:\n",
    "    with open(file) as json_data:\n",
    "        x = json.load(json_data)\n",
    "    first['cells'] = first['cells'] + x['cells']"
   ]
  },
  {
   "cell_type": "code",
   "execution_count": null,
   "metadata": {
    "collapsed": true
   },
   "outputs": [],
   "source": [
    "with open(file_output_name, 'w') as outfile:\n",
    "    json.dump(first, outfile)"
   ]
  },
  {
   "cell_type": "code",
   "execution_count": null,
   "metadata": {
    "collapsed": true
   },
   "outputs": [],
   "source": []
  }
 ],
 "metadata": {
  "anaconda-cloud": {},
  "kernelspec": {
   "display_name": "Python [conda root]",
   "language": "python",
   "name": "conda-root-py"
  },
  "language_info": {
   "codemirror_mode": {
    "name": "ipython",
    "version": 3
   },
   "file_extension": ".py",
   "mimetype": "text/x-python",
   "name": "python",
   "nbconvert_exporter": "python",
   "pygments_lexer": "ipython3",
   "version": "3.5.2"
  }
 },
 "nbformat": 4,
 "nbformat_minor": 1
}
