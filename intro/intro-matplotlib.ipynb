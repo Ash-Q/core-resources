{
 "cells": [
  {
   "cell_type": "markdown",
   "metadata": {},
   "source": [
    "# Introduction to matplotlib\n",
    "\n",
    "---\n",
    "\n",
    "<img src = \"https://matplotlib.org/_static/logo2.svg\">"
   ]
  },
  {
   "cell_type": "markdown",
   "metadata": {},
   "source": [
    "In this notebook, we will learn about the basics of matplotlib, yet another data science library.\n",
    "\n",
    "Estimated Time: 30 minutes\n",
    "\n",
    "---"
   ]
  },
  {
   "cell_type": "markdown",
   "metadata": {},
   "source": [
    "## 1. Introduction\n",
    "\n",
    "*What is matplotlib?*\n",
    "\n",
    "Here's the Wikipedia definition: \"matplotlib is a plotting library for the Python programming language and its numerical mathematics extension NumPy.\"\n",
    "\n",
    "Basically, matplotlib is a cool way we can create plots. \n",
    "\n",
    "A note on visualization in general: Visualization is SUPER important in data science. Sometimes, we create visualizations to examine our data before we begin analysis. Other times, we include visualizations in our final reports to convey important information in a nice manner.\n",
    "\n",
    "With that, let's learn about matplotlib! Let's import it to start us off!"
   ]
  },
  {
   "cell_type": "code",
   "execution_count": 1,
   "metadata": {
    "collapsed": true
   },
   "outputs": [],
   "source": [
    "import matplotlib as plt"
   ]
  },
  {
   "cell_type": "code",
   "execution_count": null,
   "metadata": {
    "collapsed": true
   },
   "outputs": [],
   "source": []
  }
 ],
 "metadata": {
  "kernelspec": {
   "display_name": "Python 3",
   "language": "python",
   "name": "python3"
  },
  "language_info": {
   "codemirror_mode": {
    "name": "ipython",
    "version": 3
   },
   "file_extension": ".py",
   "mimetype": "text/x-python",
   "name": "python",
   "nbconvert_exporter": "python",
   "pygments_lexer": "ipython3",
   "version": "3.6.3"
  }
 },
 "nbformat": 4,
 "nbformat_minor": 2
}
