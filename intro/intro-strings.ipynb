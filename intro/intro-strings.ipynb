{
 "cells": [
  {
   "cell_type": "markdown",
   "metadata": {},
   "source": [
    "# Introduction to Strings\n",
    "---\n",
    "\n",
    "This notebook covers the topic of Strings and their importance in the world of programming. You will learn various methods that will help you manipulate these Strings and make useful inferences with them. This notebook assumes that you have already completed the \"Introduction to Data Science\" notebook.\n",
    "\n",
    "*Estimated Time: 30 minutes*\n",
    "\n",
    "---\n",
    "\n",
    "**Topics Covered:**\n",
    "- Objects\n",
    "- String Concatenation\n",
    "- Loops\n",
    "- String Methods\n",
    "\n",
    "**Dependencies:**"
   ]
  },
  {
   "cell_type": "code",
   "execution_count": null,
   "metadata": {
    "collapsed": true
   },
   "outputs": [],
   "source": [
    "import numpy as np\n",
    "from datascience import *"
   ]
  },
  {
   "cell_type": "markdown",
   "metadata": {},
   "source": [
    "## What Are Objects?"
   ]
  },
  {
   "cell_type": "markdown",
   "metadata": {},
   "source": [
    "Objects are used very frequently when you're coding - even when you dont know it. But what really is an object? \n",
    "\n",
    "By definition, an object is an **instance** of a **class**. They're an **abstraction**, so they can be used to manipulate data. That sounds complicated, doesn't it? Well, to simplify, think of this: a class is a huge general category of something which holds particular attributes (variables) and actions (functions). Let's assume that Mars has aliens called Xelhas and one of them visits Earth. The Xelha species would be a class, and the alien itself would be an *instance* of that class (or an object). By observing its behavior and mannerisms, we would be able to see how the rest of its species goes about doing things.\n",
    "\n",
    "Strings are objects too, of the *String* class, which has pre-defined methods that we use. But you don't need to worry about that yet. All you should know is that Strings are **not** \"primitive\" data types, such as integers or booleans. That being said, let's delve right in.\n",
    "\n",
    "Try running the code cell below:\n"
   ]
  },
  {
   "cell_type": "code",
   "execution_count": 2,
   "metadata": {
    "collapsed": false
   },
   "outputs": [
    {
     "ename": "TypeError",
     "evalue": "unsupported operand type(s) for +: 'int' and 'str'",
     "output_type": "error",
     "traceback": [
      "\u001b[0;31m---------------------------------------------------------------------------\u001b[0m",
      "\u001b[0;31mTypeError\u001b[0m                                 Traceback (most recent call last)",
      "\u001b[0;32m<ipython-input-2-ef40987d8399>\u001b[0m in \u001b[0;36m<module>\u001b[0;34m()\u001b[0m\n\u001b[0;32m----> 1\u001b[0;31m \u001b[1;36m5\u001b[0m \u001b[1;33m+\u001b[0m \u001b[1;34m\"5\"\u001b[0m\u001b[1;33m\u001b[0m\u001b[0m\n\u001b[0m",
      "\u001b[0;31mTypeError\u001b[0m: unsupported operand type(s) for +: 'int' and 'str'"
     ]
    }
   ],
   "source": [
    "5 + \"5\" "
   ]
  },
  {
   "cell_type": "markdown",
   "metadata": {},
   "source": [
    "Why did that happen?\n",
    "\n",
    "This can be classified as a *type* error. As mentioned before, Strings are not primitive data types, like integers and booleans, so when you try to **add** a String to an integer, Python gets confused and throws an error. The important thing to note here is that a String is a String: no matter what its contents may be. If it's between two quotes, it has to be a String. \n",
    "\n",
    "But what if we followed the \"same type\" rule and tried to add two Strings? Let's try it.\n"
   ]
  },
  {
   "cell_type": "code",
   "execution_count": null,
   "metadata": {
    "collapsed": false
   },
   "outputs": [],
   "source": [
    "\"5\" + \"5\""
   ]
  },
  {
   "cell_type": "markdown",
   "metadata": {},
   "source": [
    "What?! How does 5 + 5 equal 55?\n",
    "\n",
    "This is known as concatenation."
   ]
  },
  {
   "cell_type": "markdown",
   "metadata": {},
   "source": [
    "## Concatenation\n",
    "\n",
    "\"Concatenating\" two items means literally combining or joining them. \n",
    "\n",
    "When you put the + operator between two Strings, Python will take the contents from both Strings and mash them together to make one String. This process is called **concatenation**.\n",
    "\n",
    "The following examples illustrate how String concatenation works:"
   ]
  },
  {
   "cell_type": "code",
   "execution_count": 4,
   "metadata": {
    "collapsed": false
   },
   "outputs": [
    {
     "data": {
      "text/plain": [
       "'Berkeley'"
      ]
     },
     "execution_count": 4,
     "metadata": {},
     "output_type": "execute_result"
    }
   ],
   "source": [
    "\"Berk\" + \"eley\""
   ]
  },
  {
   "cell_type": "markdown",
   "metadata": {},
   "source": [
    "Concatenation happens left to right, like how would you expect. In the example below, \"B\" and \"e\" are first combined to get \"Be\", which is then combined with \"r\" to get \"Ber\", and so on."
   ]
  },
  {
   "cell_type": "code",
   "execution_count": 5,
   "metadata": {
    "collapsed": false
   },
   "outputs": [
    {
     "data": {
      "text/plain": [
       "'Berkeley'"
      ]
     },
     "execution_count": 5,
     "metadata": {},
     "output_type": "execute_result"
    }
   ],
   "source": [
    "\"B\" + \"e\" + \"r\" + \"k\" + \"e\" + \"l\" + \"e\" + \"y\""
   ]
  },
  {
   "cell_type": "markdown",
   "metadata": {},
   "source": [
    "**Exericse 1**\n",
    "\n",
    "Here's a small exercise for you. In the variable _expression_, create the String \"today is a lovely day\" using only the variables provided for letters.\n",
    "\n",
    "_Hint: Remember to add spaces between words (double quotes with a space in between, like \" \") because Python literally clubs all text together._\n"
   ]
  },
  {
   "cell_type": "code",
   "execution_count": 8,
   "metadata": {
    "collapsed": true
   },
   "outputs": [],
   "source": [
    "a = \"oda\"\n",
    "b = \"is\"\n",
    "c = \"a\"\n",
    "d = \"l\"\n",
    "e = \"t\"\n",
    "f = \"y\"\n",
    "g = \"lo\"\n",
    "h = \"d\"\n",
    "i = \"ve\""
   ]
  },
  {
   "cell_type": "code",
   "execution_count": 9,
   "metadata": {
    "collapsed": false
   },
   "outputs": [
    {
     "ename": "SyntaxError",
     "evalue": "invalid syntax (<ipython-input-9-c2e46a62476f>, line 1)",
     "output_type": "error",
     "traceback": [
      "\u001b[0;36m  File \u001b[0;32m\"<ipython-input-9-c2e46a62476f>\"\u001b[0;36m, line \u001b[0;32m1\u001b[0m\n\u001b[0;31m    expression = # Your Code Here\u001b[0m\n\u001b[0m                                 ^\u001b[0m\n\u001b[0;31mSyntaxError\u001b[0m\u001b[0;31m:\u001b[0m invalid syntax\n"
     ]
    }
   ],
   "source": [
    "expression = # Your Code Here\n",
    "print(expression)"
   ]
  },
  {
   "cell_type": "markdown",
   "metadata": {},
   "source": [
    "## String methods"
   ]
  },
  {
   "cell_type": "markdown",
   "metadata": {},
   "source": [
    "The String class is great for regular use because it comes equipped with a lot of built-in functions with useful properties. These functions, or **methods**, can fundamentally transform Strings. Here are some common String methods that may prove to be helpful.\n",
    "\n",
    "### Replace\n",
    "For example, the *replace* method replaces all instances of some part of a String with some replacement. A method is invoked on a String by placing a dot after the string value, then the name of the method, and finally parentheses containing the arguments.\n",
    "\n",
    "    <String>.<method name>(<argument>, <argument>, ...)\n",
    "\n",
    "Try to predict the output of these examples, then execute them."
   ]
  },
  {
   "cell_type": "code",
   "execution_count": 11,
   "metadata": {
    "collapsed": false
   },
   "outputs": [
    {
     "data": {
      "text/plain": [
       "'Hillo'"
      ]
     },
     "execution_count": 11,
     "metadata": {},
     "output_type": "execute_result"
    }
   ],
   "source": [
    "# Replace one letter\n",
    "'Hello'.replace('e', 'i')"
   ]
  },
  {
   "cell_type": "code",
   "execution_count": 12,
   "metadata": {
    "collapsed": false
   },
   "outputs": [
    {
     "data": {
      "text/plain": [
       "'matchmaker'"
      ]
     },
     "execution_count": 12,
     "metadata": {},
     "output_type": "execute_result"
    }
   ],
   "source": [
    "# Replace a sequence of letters, which appears twice\n",
    "'hitchhiker'.replace('hi', 'ma')"
   ]
  },
  {
   "cell_type": "markdown",
   "metadata": {},
   "source": [
    "When you call a method on a String stored in a variable, it does not fundamentally change the String stored in the variable, so you have to save the result of calling a method into a new variable to see the change. \n",
    "\n",
    "Remember, a String method will replace **every** instance of where the replacement text is found."
   ]
  },
  {
   "cell_type": "code",
   "execution_count": 13,
   "metadata": {
    "collapsed": false
   },
   "outputs": [
    {
     "name": "stdout",
     "output_type": "stream",
     "text": [
      "sharp = edged\n",
      "hot = magma\n"
     ]
    }
   ],
   "source": [
    "sharp = 'edged'\n",
    "hot = sharp.replace('ed', 'ma')\n",
    "print('sharp =', sharp)\n",
    "print('hot =', hot)"
   ]
  },
  {
   "cell_type": "markdown",
   "metadata": {
    "collapsed": true
   },
   "source": [
    "Another very useful method is the **`split`** method. It takes in a **separator string** and based on the separator, splits up the original string into an array, with each element of the array being a separated portion of the string.\n",
    "\n",
    "This is how we create a split call, where String indicates something of the String class, whether it be a variable name that contains a String, or just something in quotes:\n",
    "\n",
    "`[String].split([String])`\n"
   ]
  },
  {
   "cell_type": "markdown",
   "metadata": {},
   "source": [
    "Here, we split this sentence based on spaces, so every individual word is an element in our final array."
   ]
  },
  {
   "cell_type": "code",
   "execution_count": 15,
   "metadata": {
    "collapsed": false
   },
   "outputs": [
    {
     "data": {
      "text/plain": [
       "['Another', 'very', 'useful', 'method', 'is', 'the', 'split', 'method']"
      ]
     },
     "execution_count": 15,
     "metadata": {},
     "output_type": "execute_result"
    }
   ],
   "source": [
    "\"Another very useful method is the split method\".split(\" \")"
   ]
  },
  {
   "cell_type": "markdown",
   "metadata": {},
   "source": [
    "In the below example, we have a String of numbers and split based on the comma. We thus get an array of numbers, but which are in quotes, so they are still Strings. We can loop through every element in our array to convert all of the Strings of numbers into ints."
   ]
  },
  {
   "cell_type": "code",
   "execution_count": 17,
   "metadata": {
    "collapsed": false
   },
   "outputs": [
    {
     "name": "stdout",
     "output_type": "stream",
     "text": [
      "['1', '2', '3', '4', '5', '6', '7']\n",
      "[1, 2, 3, 4, 5, 6, 7]\n"
     ]
    }
   ],
   "source": [
    "string_of_numbers = \"1, 2, 3, 4, 5, 6, 7\"\n",
    "arr_of_strings = string_of_numbers.split(\", \")\n",
    "print(arr_of_strings) # Remember, these elements are still Strings!\n",
    "\n",
    "arr_of_numbers = []\n",
    "for s in arr_of_strings: # Loop through the array, converting each String to an int\n",
    "    arr_of_numbers.append(int(s))\n",
    "print(arr_of_numbers)"
   ]
  },
  {
   "cell_type": "markdown",
   "metadata": {},
   "source": [
    "As you can see, the `split` function can be very handy when cleaning up and organizing data (a process known as _parsing_)."
   ]
  },
  {
   "cell_type": "markdown",
   "metadata": {},
   "source": [
    "## Loops"
   ]
  },
  {
   "cell_type": "markdown",
   "metadata": {},
   "source": [
    "What do you do when you have to do the same task repetitively? Let's say you have to say Hi to someone five times. Would that require 5 lines of \"print('hi')\"? No! This is why coding is beautiful. It allows for automation and takes care of all the hard work. \n",
    "\n",
    "Loops, in the literal meaning of the term, can be used to repeat tasks over and over, until you get your desired output. \n",
    "\n",
    "The most useful loop to know for the scope of this course is the **for** loop.\n",
    "\n",
    "A for statement begins with the word *for*, followed by a name we want to give each item in the sequence, followed by the word *in*, and ending with an expression that evaluates to a sequence. The indented body of the for statement is executed once for each item in that sequence.\n",
    "\n",
    "    for *variable* in *sequence*:\n",
    "        *body of function*\n",
    "        \n",
    "Let's see what happens with this for loop."
   ]
  },
  {
   "cell_type": "code",
   "execution_count": 19,
   "metadata": {
    "collapsed": false
   },
   "outputs": [
    {
     "name": "stdout",
     "output_type": "stream",
     "text": [
      "J\n",
      "o\n",
      "h\n",
      "n\n",
      " \n",
      "D\n",
      "e\n",
      "N\n",
      "e\n",
      "r\n",
      "o\n"
     ]
    }
   ],
   "source": [
    "for each_character in \"John DeNero\":\n",
    "    print(each_character)"
   ]
  },
  {
   "cell_type": "markdown",
   "metadata": {},
   "source": [
    "In this case, we are looping through the characters inside of the String \"John DeNero\". At the first iteration of our for loop, each_character is at the character \"J\", so it prints the \"J\". At the next iteration, we reach the character \"o\", so that is printed, and so on."
   ]
  },
  {
   "cell_type": "markdown",
   "metadata": {},
   "source": [
    "**Exercise 2**\n",
    "\n",
    "Write a for loop that iterates through the sentence \"Hi, I am a quick brown fox and I jump over the lazy dog\" and checks if each letter is an *a*. Print out the number of a's in the sentence.\n",
    "\n",
    "_Hint: try combining what you've learnt from conditions and use a variable as a counter._"
   ]
  },
  {
   "cell_type": "code",
   "execution_count": null,
   "metadata": {
    "collapsed": false
   },
   "outputs": [],
   "source": [
    "# Your Code Here\n",
    "for ...\n",
    "    "
   ]
  },
  {
   "cell_type": "markdown",
   "metadata": {},
   "source": [
    "## Conclusion\n",
    "---\n",
    "Congratulations! You have learned the basics of String manipulation in Python."
   ]
  },
  {
   "cell_type": "markdown",
   "metadata": {},
   "source": [
    "## Bibliography\n",
    "---\n",
    "Some examples adapted from the UC Berkeley Data 8 textbook, <a href=\"https://www.inferentialthinking.com\">*Inferential Thinking*</a>.\n",
    "\n",
    "Authors:\n",
    "- Shriya Vohra\n",
    "- Scott Lee\n",
    "- Pancham Yadav"
   ]
  }
 ],
 "metadata": {
  "anaconda-cloud": {},
  "kernelspec": {
   "display_name": "Python [default]",
   "language": "python",
   "name": "python3"
  },
  "language_info": {
   "codemirror_mode": {
    "name": "ipython",
    "version": 3
   },
   "file_extension": ".py",
   "mimetype": "text/x-python",
   "name": "python",
   "nbconvert_exporter": "python",
   "pygments_lexer": "ipython3",
   "version": "3.5.2"
  }
 },
 "nbformat": 4,
 "nbformat_minor": 1
}
